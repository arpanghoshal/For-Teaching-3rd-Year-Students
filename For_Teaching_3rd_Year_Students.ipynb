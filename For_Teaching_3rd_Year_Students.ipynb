{
  "nbformat": 4,
  "nbformat_minor": 0,
  "metadata": {
    "colab": {
      "name": "For Teaching 3rd Year Students.ipynb",
      "provenance": [],
      "collapsed_sections": [],
      "include_colab_link": true
    },
    "kernelspec": {
      "name": "python3",
      "display_name": "Python 3"
    },
    "language_info": {
      "name": "python"
    },
    "accelerator": "GPU"
  },
  "cells": [
    {
      "cell_type": "markdown",
      "metadata": {
        "id": "view-in-github",
        "colab_type": "text"
      },
      "source": [
        "<a href=\"https://colab.research.google.com/github/arpanghoshal/For-Teaching-3rd-Year-Students/blob/main/For_Teaching_3rd_Year_Students.ipynb\" target=\"_parent\"><img src=\"https://colab.research.google.com/assets/colab-badge.svg\" alt=\"Open In Colab\"/></a>"
      ]
    },
    {
      "cell_type": "code",
      "metadata": {
        "id": "B3BmIj42hcFF"
      },
      "source": [
        "from google.colab import drive\n",
        "drive.mount('/content/drive')"
      ],
      "execution_count": null,
      "outputs": []
    },
    {
      "cell_type": "code",
      "metadata": {
        "colab": {
          "base_uri": "https://localhost:8080/"
        },
        "id": "FDmmdtvSr0d6",
        "outputId": "9a2aaa3e-cd0c-41fc-9e43-0c49da8d5449"
      },
      "source": [
        "import numpy as np\n",
        "import pandas as pd\n",
        "import os\n",
        "\n",
        "from sklearn.model_selection import train_test_split\n",
        "\n",
        "import tensorflow as tf\n",
        "print(tf.__version__)"
      ],
      "execution_count": null,
      "outputs": [
        {
          "output_type": "stream",
          "text": [
            "2.4.1\n"
          ],
          "name": "stdout"
        }
      ]
    },
    {
      "cell_type": "code",
      "metadata": {
        "id": "3ehl2n_zsgVR"
      },
      "source": [
        "from zipfile import ZipFile\n",
        "ZipFile(\"/content/drive/MyDrive/train.zip\", \"r\").extractall()\n",
        "ZipFile(\"/content/drive/MyDrive/test1.zip\", \"r\").extractall()"
      ],
      "execution_count": null,
      "outputs": []
    },
    {
      "cell_type": "code",
      "metadata": {
        "colab": {
          "base_uri": "https://localhost:8080/"
        },
        "id": "MzJ_J5PWr6aB",
        "outputId": "b66638ed-c399-4942-db21-ab7ee22c00df"
      },
      "source": [
        "# preparing data\n",
        "\n",
        "TRAIN_DIR = \"./train/\"\n",
        "TEST_DIR = \"./test1/\"\n",
        "\n",
        "TRAIN_SIZE = len([name for name in os.listdir(TRAIN_DIR)])\n",
        "TEST_SIZE = len([name for name in os.listdir(TEST_DIR)])\n",
        "print(\"Number of training images:\", TRAIN_SIZE)\n",
        "print(\"Number of test images:\", TEST_SIZE)\n",
        "\n",
        "VALID_FRACTION = 0.2\n",
        "BATCH_SIZE = 100\n",
        "EPOCHS = 50\n",
        "\n",
        "IMAGE_WIDTH = IMAGE_HEIGHT = 150\n",
        "\n",
        "# creating df with train labels\n",
        "train_filenames = os.listdir(TRAIN_DIR)\n",
        "train_labels = []\n",
        "for filename in train_filenames:\n",
        "    label = filename.split('.')[0]\n",
        "    train_labels.append(label)\n",
        "\n",
        "train_df = pd.DataFrame({\n",
        "    'id': train_filenames,\n",
        "    'label': train_labels\n",
        "})\n",
        "\n",
        "# splitting to train & valid\n",
        "train_df, valid_df = train_test_split(train_df, test_size=VALID_FRACTION)\n",
        "\n",
        "# augmentation settings, for now just normalizing\n",
        "train_datagen = tf.keras.preprocessing.image.ImageDataGenerator(    \n",
        "    rotation_range=40,\n",
        "    width_shift_range=0.2,\n",
        "    height_shift_range=0.2,\n",
        "    rescale=1./255.,\n",
        "    shear_range=0.2,\n",
        "    zoom_range=0.2,\n",
        "    horizontal_flip=True,\n",
        "    fill_mode='nearest'\n",
        "    )\n",
        "\n",
        "# not doing any data augmentation on validation test set\n",
        "valid_datagen  = tf.keras.preprocessing.image.ImageDataGenerator(rescale=1./255.)\n",
        "\n",
        "# creating train and valid generators (not using valid_split to avoid doing data augmentation on validation set)\n",
        "train_generator = train_datagen.flow_from_dataframe(\n",
        "    train_df, \n",
        "    TRAIN_DIR, \n",
        "    x_col='id',\n",
        "    y_col='label',\n",
        "    target_size=(IMAGE_WIDTH, IMAGE_HEIGHT),\n",
        "    class_mode='binary',\n",
        "    batch_size=BATCH_SIZE\n",
        ")\n",
        "\n",
        "valid_generator = valid_datagen.flow_from_dataframe(\n",
        "    valid_df, \n",
        "    TRAIN_DIR, \n",
        "    x_col='id',\n",
        "    y_col='label',\n",
        "    target_size=(IMAGE_WIDTH, IMAGE_HEIGHT),\n",
        "    class_mode='binary',\n",
        "    batch_size=BATCH_SIZE\n",
        ")"
      ],
      "execution_count": null,
      "outputs": [
        {
          "output_type": "stream",
          "text": [
            "Number of training images: 25000\n",
            "Number of test images: 12500\n",
            "Found 20000 validated image filenames belonging to 2 classes.\n",
            "Found 5000 validated image filenames belonging to 2 classes.\n"
          ],
          "name": "stdout"
        }
      ]
    },
    {
      "cell_type": "code",
      "metadata": {
        "colab": {
          "base_uri": "https://localhost:8080/"
        },
        "id": "9TkkVTK5sPdR",
        "outputId": "19627819-b71a-40be-dac1-b3651203b57d"
      },
      "source": [
        "model = tf.keras.models.Sequential([\n",
        "    # the images were resized by ImageDataGenerator 150x150 with 3 bytes color\n",
        "    tf.keras.layers.Conv2D(32, (3,3), activation='relu', input_shape=(IMAGE_WIDTH, IMAGE_HEIGHT, 3)),\n",
        "    tf.keras.layers.MaxPooling2D(2,2),\n",
        "    tf.keras.layers.Conv2D(64, (3,3), activation='relu'),\n",
        "    tf.keras.layers.MaxPooling2D(2,2), \n",
        "    tf.keras.layers.Conv2D(128, (3,3), activation='relu'), \n",
        "    tf.keras.layers.MaxPooling2D(2,2),\n",
        "    tf.keras.layers.Conv2D(128, (3,3), activation='relu'), \n",
        "    tf.keras.layers.MaxPooling2D(2,2),\n",
        "    tf.keras.layers.Dropout(0.5),\n",
        "    tf.keras.layers.Flatten(), \n",
        "    # 512 neuron hidden layer\n",
        "    tf.keras.layers.Dense(512, activation='relu'),\n",
        "    # since we have only 2 classes to predict we can use 1 neuron and sigmoid\n",
        "    tf.keras.layers.Dense(1, activation='sigmoid')  \n",
        "])\n",
        "\n",
        "model.summary()\n",
        "\n",
        "model.compile(optimizer=tf.keras.optimizers.RMSprop(lr=0.001),\n",
        "    loss='binary_crossentropy',\n",
        "    metrics = ['accuracy'])\n",
        "\n",
        "es = tf.keras.callbacks.EarlyStopping(monitor='val_loss',\n",
        "    mode='min',\n",
        "    restore_best_weights=True, \n",
        "    verbose=1,\n",
        "    patience=5)"
      ],
      "execution_count": null,
      "outputs": [
        {
          "output_type": "stream",
          "text": [
            "Model: \"sequential\"\n",
            "_________________________________________________________________\n",
            "Layer (type)                 Output Shape              Param #   \n",
            "=================================================================\n",
            "conv2d (Conv2D)              (None, 148, 148, 32)      896       \n",
            "_________________________________________________________________\n",
            "max_pooling2d (MaxPooling2D) (None, 74, 74, 32)        0         \n",
            "_________________________________________________________________\n",
            "conv2d_1 (Conv2D)            (None, 72, 72, 64)        18496     \n",
            "_________________________________________________________________\n",
            "max_pooling2d_1 (MaxPooling2 (None, 36, 36, 64)        0         \n",
            "_________________________________________________________________\n",
            "conv2d_2 (Conv2D)            (None, 34, 34, 128)       73856     \n",
            "_________________________________________________________________\n",
            "max_pooling2d_2 (MaxPooling2 (None, 17, 17, 128)       0         \n",
            "_________________________________________________________________\n",
            "conv2d_3 (Conv2D)            (None, 15, 15, 128)       147584    \n",
            "_________________________________________________________________\n",
            "max_pooling2d_3 (MaxPooling2 (None, 7, 7, 128)         0         \n",
            "_________________________________________________________________\n",
            "dropout (Dropout)            (None, 7, 7, 128)         0         \n",
            "_________________________________________________________________\n",
            "flatten (Flatten)            (None, 6272)              0         \n",
            "_________________________________________________________________\n",
            "dense (Dense)                (None, 512)               3211776   \n",
            "_________________________________________________________________\n",
            "dense_1 (Dense)              (None, 1)                 513       \n",
            "=================================================================\n",
            "Total params: 3,453,121\n",
            "Trainable params: 3,453,121\n",
            "Non-trainable params: 0\n",
            "_________________________________________________________________\n"
          ],
          "name": "stdout"
        }
      ]
    },
    {
      "cell_type": "code",
      "metadata": {
        "colab": {
          "base_uri": "https://localhost:8080/",
          "height": 1000
        },
        "id": "BfPUBP2zszsn",
        "outputId": "6fae9a46-9f73-455f-fd0b-2543a3e23558"
      },
      "source": [
        "tf.keras.utils.plot_model(model)"
      ],
      "execution_count": null,
      "outputs": [
        {
          "output_type": "execute_result",
          "data": {
            "image/png": "[encoded data removed]",
            "text/plain": [
              "<IPython.core.display.Image object>"
            ]
          },
          "metadata": {
            "tags": []
          },
          "execution_count": 6
        }
      ]
    },
    {
      "cell_type": "code",
      "metadata": {
        "colab": {
          "base_uri": "https://localhost:8080/"
        },
        "id": "UrOr1uRps2PJ",
        "outputId": "3454cbce-0be6-4af0-d471-4818d47a9c20"
      },
      "source": [
        "%%time\n",
        "\n",
        "# training\n",
        "history = model.fit_generator(train_generator,\n",
        "    validation_data=valid_generator,\n",
        "    steps_per_epoch=round(TRAIN_SIZE*(1.-VALID_FRACTION)/BATCH_SIZE),\n",
        "    validation_steps=round(TRAIN_SIZE*VALID_FRACTION/BATCH_SIZE),\n",
        "    epochs=EPOCHS,\n",
        "    callbacks=[es],\n",
        "    verbose=1)"
      ],
      "execution_count": null,
      "outputs": [
        {
          "output_type": "stream",
          "text": [
            "/usr/local/lib/python3.7/dist-packages/tensorflow/python/keras/engine/training.py:1844: UserWarning: `Model.fit_generator` is deprecated and will be removed in a future version. Please use `Model.fit`, which supports generators.\n",
            "  warnings.warn('`Model.fit_generator` is deprecated and '\n"
          ],
          "name": "stderr"
        },
        {
          "output_type": "stream",
          "text": [
            "Epoch 1/50\n",
            "200/200 [==============================] - 183s 749ms/step - loss: 0.7365 - accuracy: 0.5263 - val_loss: 0.6498 - val_accuracy: 0.6736\n",
            "Epoch 2/50\n",
            "200/200 [==============================] - 148s 738ms/step - loss: 0.6550 - accuracy: 0.6179 - val_loss: 0.6320 - val_accuracy: 0.6662\n",
            "Epoch 3/50\n",
            "200/200 [==============================] - 150s 750ms/step - loss: 0.6113 - accuracy: 0.6625 - val_loss: 0.5322 - val_accuracy: 0.7420\n",
            "Epoch 4/50\n",
            "200/200 [==============================] - 149s 743ms/step - loss: 0.5858 - accuracy: 0.6921 - val_loss: 0.4822 - val_accuracy: 0.7644\n",
            "Epoch 5/50\n",
            "200/200 [==============================] - 149s 743ms/step - loss: 0.5728 - accuracy: 0.7077 - val_loss: 0.4927 - val_accuracy: 0.7698\n",
            "Epoch 6/50\n",
            "200/200 [==============================] - 149s 747ms/step - loss: 0.5494 - accuracy: 0.7265 - val_loss: 0.4353 - val_accuracy: 0.7986\n",
            "Epoch 7/50\n",
            "200/200 [==============================] - 149s 745ms/step - loss: 0.5191 - accuracy: 0.7458 - val_loss: 0.4215 - val_accuracy: 0.8056\n",
            "Epoch 8/50\n",
            "200/200 [==============================] - 149s 745ms/step - loss: 0.5007 - accuracy: 0.7596 - val_loss: 0.3985 - val_accuracy: 0.8156\n",
            "Epoch 9/50\n",
            "200/200 [==============================] - 147s 735ms/step - loss: 0.4954 - accuracy: 0.7670 - val_loss: 0.4088 - val_accuracy: 0.8156\n",
            "Epoch 10/50\n",
            "200/200 [==============================] - 150s 750ms/step - loss: 0.4782 - accuracy: 0.7776 - val_loss: 0.3626 - val_accuracy: 0.8374\n",
            "Epoch 11/50\n",
            "200/200 [==============================] - 149s 744ms/step - loss: 0.4595 - accuracy: 0.7878 - val_loss: 0.3690 - val_accuracy: 0.8316\n",
            "Epoch 12/50\n",
            "200/200 [==============================] - 148s 742ms/step - loss: 0.4415 - accuracy: 0.7966 - val_loss: 0.5122 - val_accuracy: 0.7822\n",
            "Epoch 13/50\n",
            "200/200 [==============================] - 150s 751ms/step - loss: 0.4300 - accuracy: 0.8068 - val_loss: 0.3663 - val_accuracy: 0.8498\n",
            "Epoch 14/50\n",
            "200/200 [==============================] - 148s 739ms/step - loss: 0.4134 - accuracy: 0.8133 - val_loss: 0.5168 - val_accuracy: 0.7466\n",
            "Epoch 15/50\n",
            "200/200 [==============================] - 148s 739ms/step - loss: 0.4063 - accuracy: 0.8138 - val_loss: 0.2788 - val_accuracy: 0.8848\n",
            "Epoch 16/50\n",
            "200/200 [==============================] - 148s 739ms/step - loss: 0.3991 - accuracy: 0.8181 - val_loss: 0.3658 - val_accuracy: 0.8306\n",
            "Epoch 17/50\n",
            "200/200 [==============================] - 148s 742ms/step - loss: 0.3859 - accuracy: 0.8299 - val_loss: 0.3250 - val_accuracy: 0.8614\n",
            "Epoch 18/50\n",
            "200/200 [==============================] - 148s 740ms/step - loss: 0.3743 - accuracy: 0.8407 - val_loss: 0.3340 - val_accuracy: 0.8534\n",
            "Epoch 19/50\n",
            "200/200 [==============================] - 148s 739ms/step - loss: 0.3668 - accuracy: 0.8410 - val_loss: 0.4934 - val_accuracy: 0.7550\n",
            "Epoch 20/50\n",
            "200/200 [==============================] - 148s 741ms/step - loss: 0.3681 - accuracy: 0.8356 - val_loss: 0.2345 - val_accuracy: 0.9014\n",
            "Epoch 21/50\n",
            "200/200 [==============================] - 148s 741ms/step - loss: 0.3648 - accuracy: 0.8341 - val_loss: 0.3078 - val_accuracy: 0.8734\n",
            "Epoch 22/50\n",
            "200/200 [==============================] - 148s 740ms/step - loss: 0.3483 - accuracy: 0.8476 - val_loss: 0.2605 - val_accuracy: 0.8960\n",
            "Epoch 23/50\n",
            "200/200 [==============================] - 148s 740ms/step - loss: 0.3395 - accuracy: 0.8564 - val_loss: 0.2303 - val_accuracy: 0.9074\n",
            "Epoch 24/50\n",
            "200/200 [==============================] - 148s 738ms/step - loss: 0.3313 - accuracy: 0.8607 - val_loss: 0.2235 - val_accuracy: 0.9096\n",
            "Epoch 25/50\n",
            "200/200 [==============================] - 148s 739ms/step - loss: 0.3451 - accuracy: 0.8492 - val_loss: 0.3005 - val_accuracy: 0.8748\n",
            "Epoch 26/50\n",
            "200/200 [==============================] - 147s 735ms/step - loss: 0.3183 - accuracy: 0.8642 - val_loss: 0.2051 - val_accuracy: 0.9172\n",
            "Epoch 27/50\n",
            "200/200 [==============================] - 147s 737ms/step - loss: 0.3260 - accuracy: 0.8605 - val_loss: 0.2084 - val_accuracy: 0.9182\n",
            "Epoch 28/50\n",
            "200/200 [==============================] - 147s 735ms/step - loss: 0.3132 - accuracy: 0.8632 - val_loss: 0.2111 - val_accuracy: 0.9098\n",
            "Epoch 29/50\n",
            "200/200 [==============================] - 147s 735ms/step - loss: 0.3079 - accuracy: 0.8659 - val_loss: 0.2217 - val_accuracy: 0.9148\n",
            "Epoch 30/50\n",
            "200/200 [==============================] - 147s 733ms/step - loss: 0.2968 - accuracy: 0.8710 - val_loss: 0.2688 - val_accuracy: 0.8888\n",
            "Epoch 31/50\n",
            "200/200 [==============================] - 147s 734ms/step - loss: 0.3103 - accuracy: 0.8663 - val_loss: 0.2237 - val_accuracy: 0.9086\n",
            "Restoring model weights from the end of the best epoch.\n",
            "Epoch 00031: early stopping\n",
            "CPU times: user 1h 20min 56s, sys: 3min 57s, total: 1h 24min 53s\n",
            "Wall time: 1h 17min 9s\n"
          ],
          "name": "stdout"
        }
      ]
    },
    {
      "cell_type": "code",
      "metadata": {
        "id": "It2PAkshs46d",
        "colab": {
          "base_uri": "https://localhost:8080/",
          "height": 562
        },
        "outputId": "7e59378e-1c0f-4869-e461-58a3ec3ed6f7"
      },
      "source": [
        "#plotting\n",
        "\n",
        "import matplotlib.pyplot as plt\n",
        "\n",
        "#-----------------------------------------------------------\n",
        "# Retrieve a list of list results on training and test data\n",
        "# sets for each training epoch\n",
        "#-----------------------------------------------------------\n",
        "acc = history.history['accuracy']\n",
        "val_acc = history.history[ 'val_accuracy']\n",
        "loss = history.history['loss']\n",
        "val_loss = history.history['val_loss']\n",
        "\n",
        "epochs   = range(len(acc)) # Get number of epochs\n",
        "\n",
        "#------------------------------------------------\n",
        "# Plot training and validation accuracy per epoch\n",
        "#------------------------------------------------\n",
        "plt.plot(epochs, acc)\n",
        "plt.plot(epochs, val_acc)\n",
        "plt.title('Training and validation accuracy')\n",
        "plt.figure()\n",
        "\n",
        "#------------------------------------------------\n",
        "# Plot training and validation loss per epoch\n",
        "#------------------------------------------------\n",
        "plt.plot(epochs, loss)\n",
        "plt.plot(epochs, val_loss)\n",
        "plt.title('Training and validation loss')"
      ],
      "execution_count": null,
      "outputs": [
        {
          "output_type": "execute_result",
          "data": {
            "text/plain": [
              "Text(0.5, 1.0, 'Training and validation loss')"
            ]
          },
          "metadata": {
            "tags": []
          },
          "execution_count": 8
        },
        {
          "output_type": "display_data",
          "data": {
            "image/png": "[encoded data removed]",
            "text/plain": [
              "<Figure size 432x288 with 1 Axes>"
            ]
          },
          "metadata": {
            "tags": [],
            "needs_background": "light"
          }
        },
        {
          "output_type": "display_data",
          "data": {
            "image/png": "[encoded data removed]",
            "text/plain": [
              "<Figure size 432x288 with 1 Axes>"
            ]
          },
          "metadata": {
            "tags": [],
            "needs_background": "light"
          }
        }
      ]
    },
    {
      "cell_type": "code",
      "metadata": {
        "id": "Fb77ZDdjtL8U",
        "colab": {
          "base_uri": "https://localhost:8080/"
        },
        "outputId": "7ea7296e-cdec-470c-ed71-c536785cbacb"
      },
      "source": [
        "%%time\n",
        "\n",
        "# preparing testing data\n",
        "test_filenames = os.listdir(TEST_DIR)\n",
        "test_df = pd.DataFrame({\n",
        "    'id': test_filenames\n",
        "})\n",
        "\n",
        "test_datagen = tf.keras.preprocessing.image.ImageDataGenerator(rescale = 1.0/255.)\n",
        "\n",
        "test_generator = test_datagen.flow_from_dataframe(\n",
        "    test_df, \n",
        "    TEST_DIR, \n",
        "    x_col='id',\n",
        "    y_col=None,\n",
        "    class_mode=None,\n",
        "    target_size=(IMAGE_WIDTH, IMAGE_HEIGHT),\n",
        "    batch_size=BATCH_SIZE,\n",
        "    shuffle=False\n",
        ")\n",
        "\n",
        "yhat = model.predict_generator(test_generator, steps=np.ceil(TEST_SIZE/BATCH_SIZE))"
      ],
      "execution_count": null,
      "outputs": [
        {
          "output_type": "stream",
          "text": [
            "Found 12500 validated image filenames.\n"
          ],
          "name": "stdout"
        },
        {
          "output_type": "stream",
          "text": [
            "/usr/local/lib/python3.7/dist-packages/tensorflow/python/keras/engine/training.py:1905: UserWarning: `Model.predict_generator` is deprecated and will be removed in a future version. Please use `Model.predict`, which supports generators.\n",
            "  warnings.warn('`Model.predict_generator` is deprecated and '\n"
          ],
          "name": "stderr"
        },
        {
          "output_type": "stream",
          "text": [
            "CPU times: user 30.7 s, sys: 636 ms, total: 31.4 s\n",
            "Wall time: 29.9 s\n"
          ],
          "name": "stdout"
        }
      ]
    },
    {
      "cell_type": "code",
      "metadata": {
        "id": "ZRXDoIattOuK"
      },
      "source": [
        "# sigmoid returns probability between 0 and 1, need to convert it to an integer class\n",
        "yhat = [1 if y > 0.5 else 0 for y in yhat]\n",
        "\n",
        "test_df['label'] = yhat\n",
        "\n",
        "# restoring back to class names (dog|cat)\n",
        "label_map = dict((v,k) for k,v in train_generator.class_indices.items())\n",
        "test_df['label'] = test_df['label'].replace(label_map)\n",
        "\n",
        "# encoding according to submission format, 1 = dog, 0 = cat\n",
        "test_df['label'] = test_df['label'].replace({ 'dog': 1, 'cat': 0 })\n",
        "\n",
        "test_df.to_csv('predictions.csv', index=False)"
      ],
      "execution_count": null,
      "outputs": []
    },
    {
      "cell_type": "code",
      "metadata": {
        "id": "ZsVdHJMvtPL2"
      },
      "source": [
        "test_df.head()"
      ],
      "execution_count": null,
      "outputs": []
    },
    {
      "cell_type": "code",
      "metadata": {
        "id": "kVCMmoF_tWqD"
      },
      "source": [
        ""
      ],
      "execution_count": null,
      "outputs": []
    },
    {
      "cell_type": "code",
      "metadata": {
        "id": "oAuemQkFhYls"
      },
      "source": [
        ""
      ],
      "execution_count": null,
      "outputs": []
    }
  ]
}